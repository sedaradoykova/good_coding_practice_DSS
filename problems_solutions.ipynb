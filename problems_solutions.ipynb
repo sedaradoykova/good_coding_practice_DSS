{
 "cells": [
  {
   "cell_type": "markdown",
   "id": "eac90b9f",
   "metadata": {},
   "source": [
    "# Good coding practice - problems and solutions"
   ]
  },
  {
   "cell_type": "markdown",
   "id": "256a353e",
   "metadata": {},
   "source": [
    "Correct the following code to make it stylistically acceptable: "
   ]
  },
  {
   "cell_type": "markdown",
   "id": "921ffc29",
   "metadata": {},
   "source": [
    "### (1) Code layout "
   ]
  },
  {
   "cell_type": "code",
   "execution_count": null,
   "id": "a9ac8119",
   "metadata": {},
   "outputs": [],
   "source": [
    "# Wrong:\n",
    "\n",
    "# Arguments on first line forbidden when not using vertical alignment.\n",
    "foo = long_function_name(var_one, var_two,\n",
    "    var_three, var_four)\n",
    "\n",
    "# Further indentation required as indentation is not distinguishable.\n",
    "def long_function_name(\n",
    "    var_one, var_two, var_three,\n",
    "    var_four):\n",
    "    print(var_one)"
   ]
  },
  {
   "cell_type": "code",
   "execution_count": null,
   "id": "4643e1e3",
   "metadata": {},
   "outputs": [],
   "source": [
    "# Correct:\n",
    "\n",
    "# Aligned with opening delimiter.\n",
    "foo = long_function_name(var_one, var_two,\n",
    "                         var_three, var_four)\n",
    "\n",
    "# Add 4 spaces (an extra level of indentation) to distinguish arguments from the rest.\n",
    "def long_function_name(\n",
    "        var_one, var_two, var_three,\n",
    "        var_four):\n",
    "    print(var_one)\n",
    "\n",
    "# Hanging indents should add a level.\n",
    "foo = long_function_name(\n",
    "    var_one, var_two,\n",
    "    var_three, var_four)"
   ]
  },
  {
   "cell_type": "code",
   "execution_count": null,
   "id": "59a9df51",
   "metadata": {},
   "outputs": [],
   "source": [
    "### Excpetions to the indentation rule \n",
    "# Hanging indents *may* be indented to other than 4 spaces.\n",
    "foo = long_function_name(\n",
    "  var_one, var_two,\n",
    "  var_three, var_four)\n",
    "\n",
    "# No extra indentation.\n",
    "if (this_is_one_thing and\n",
    "    that_is_another_thing):\n",
    "    do_something()\n",
    "\n",
    "# Add a comment, which will provide some distinction in editors\n",
    "# supporting syntax highlighting.\n",
    "if (this_is_one_thing and\n",
    "    that_is_another_thing):\n",
    "    # Since both conditions are true, we can frobnicate.\n",
    "    do_something()\n",
    "\n",
    "# Add some extra indentation on the conditional continuation line.\n",
    "if (this_is_one_thing\n",
    "        and that_is_another_thing):\n",
    "    do_something()"
   ]
  },
  {
   "cell_type": "code",
   "execution_count": null,
   "id": "a93f23fd",
   "metadata": {},
   "outputs": [],
   "source": [
    "### Bracket position \n",
    "my_list = [\n",
    "    1, 2, 3,\n",
    "    4, 5, 6,\n",
    "    ]\n",
    "result = some_function_that_takes_arguments(\n",
    "    'a', 'b', 'c',\n",
    "    'd', 'e', 'f',\n",
    "    )\n",
    "# OR \n",
    "my_list = [\n",
    "    1, 2, 3,\n",
    "    4, 5, 6,\n",
    "]\n",
    "result = some_function_that_takes_arguments(\n",
    "    'a', 'b', 'c',\n",
    "    'd', 'e', 'f',\n",
    ")"
   ]
  },
  {
   "cell_type": "markdown",
   "id": "8cc93139",
   "metadata": {},
   "source": [
    "### (2) Operator position "
   ]
  },
  {
   "cell_type": "code",
   "execution_count": null,
   "id": "0c9d88d3",
   "metadata": {},
   "outputs": [],
   "source": [
    "# Wrong:\n",
    "# operators sit far away from their operands\n",
    "income = (gross_wages +\n",
    "          taxable_interest +\n",
    "          (dividends - qualified_dividends) -\n",
    "          ira_deduction -\n",
    "          student_loan_interest)"
   ]
  },
  {
   "cell_type": "code",
   "execution_count": null,
   "id": "db0e9f51",
   "metadata": {},
   "outputs": [],
   "source": [
    "# Correct:\n",
    "# easy to match operators with operands\n",
    "income = (gross_wages\n",
    "          + taxable_interest\n",
    "          + (dividends - qualified_dividends)\n",
    "          - ira_deduction\n",
    "          - student_loan_interest)"
   ]
  },
  {
   "cell_type": "markdown",
   "id": "0a082add",
   "metadata": {},
   "source": [
    "### (4) Imports "
   ]
  },
  {
   "cell_type": "code",
   "execution_count": null,
   "id": "d31a4921",
   "metadata": {},
   "outputs": [],
   "source": [
    "# Wrong:\n",
    "import sys, os\n",
    "\n",
    "# Correct:\n",
    "import os\n",
    "import sys\n",
    "# Also correct:\n",
    "from subprocess import Popen, PIPE\n"
   ]
  },
  {
   "cell_type": "markdown",
   "id": "6895612c",
   "metadata": {},
   "source": [
    "### (5) White space "
   ]
  },
  {
   "cell_type": "code",
   "execution_count": null,
   "id": "4cd9f61e",
   "metadata": {},
   "outputs": [],
   "source": [
    "# Correct:\n",
    "spam(ham[1], {eggs: 2})\n",
    "# Wrong:\n",
    "spam( ham[ 1 ], { eggs: 2 } )\n",
    "\n",
    "# Correct:\n",
    "foo = (0,)\n",
    "# Wrong:\n",
    "bar = (0, )\n",
    "\n",
    "# Correct:\n",
    "if x == 4: print x, y; x, y = y, x\n",
    "# Wrong:\n",
    "if x == 4 : print x , y ; x , y = y , x\n",
    "    \n",
    "# Correct:\n",
    "ham[1:9], ham[1:9:3], ham[:9:3], ham[1::3], ham[1:9:]\n",
    "ham[lower:upper], ham[lower:upper:], ham[lower::step]\n",
    "ham[lower+offset : upper+offset]\n",
    "ham[: upper_fn(x) : step_fn(x)], ham[:: step_fn(x)]\n",
    "ham[lower + offset : upper + offset]\n",
    "# Wrong:\n",
    "ham[lower + offset:upper + offset]\n",
    "ham[1: 9], ham[1 :9], ham[1:9 :3]\n",
    "ham[lower : : upper]\n",
    "ham[ : upper]\n",
    "\n",
    "# Correct:\n",
    "spam(1)\n",
    "# Wrong:\n",
    "spam (1)\n",
    "\n",
    "# Correct:\n",
    "dct['key'] = lst[index]\n",
    "# Wrong:\n",
    "dct ['key'] = lst [index]\n",
    "\n",
    "# Correct:\n",
    "x = 1\n",
    "y = 2\n",
    "long_variable = 3\n",
    "# Wrong:\n",
    "x             = 1\n",
    "y             = 2\n",
    "long_variable = 3\n",
    "\n",
    "# Correct:\n",
    "i = i + 1\n",
    "submitted += 1\n",
    "x = x*2 - 1\n",
    "hypot2 = x*x + y*y\n",
    "c = (a+b) * (a-b)\n",
    "# Wrong:\n",
    "i=i+1\n",
    "submitted +=1\n",
    "x = x * 2 - 1\n",
    "hypot2 = x * x + y * y\n",
    "c = (a + b) * (a - b)"
   ]
  },
  {
   "cell_type": "markdown",
   "id": "163afa1c",
   "metadata": {},
   "source": [
    "### (6) Weird cases\n",
    "Don't use spaces around the `=` sign when used to indicate a keyword argument, or when used to indicate a default value for an _unannotated function parameter_:"
   ]
  },
  {
   "cell_type": "code",
   "execution_count": null,
   "id": "d0e3c7f3",
   "metadata": {},
   "outputs": [],
   "source": [
    "# Correct:\n",
    "def complex(real, imag=0.0):\n",
    "    return magic(r=real, i=imag)\n",
    "# Wrong:\n",
    "def complex(real, imag = 0.0):\n",
    "    return magic(r = real, i = imag)"
   ]
  },
  {
   "cell_type": "markdown",
   "id": "bf9da9db",
   "metadata": {},
   "source": [
    "When combining an argument annotation with a default value, however, do use spaces around the = sign:"
   ]
  },
  {
   "cell_type": "code",
   "execution_count": null,
   "id": "d5ceb59e",
   "metadata": {},
   "outputs": [],
   "source": [
    "# Correct:\n",
    "def munge(sep: AnyStr = None): ...\n",
    "def munge(input: AnyStr, sep: AnyStr = None, limit=1000): ...\n",
    "# Wrong:\n",
    "def munge(input: AnyStr=None): ...\n",
    "def munge(input: AnyStr, limit = 1000): ..."
   ]
  },
  {
   "cell_type": "code",
   "execution_count": null,
   "id": "dcbe60d3",
   "metadata": {},
   "outputs": [],
   "source": [
    "### Compound statements = generally discouraged\n",
    "\n",
    "# Correct:\n",
    "if foo == 'blah':\n",
    "    do_blah_thing()\n",
    "do_one()\n",
    "do_two()\n",
    "do_three()\n",
    "Rather not:\n",
    "\n",
    "# Wrong:\n",
    "if foo == 'blah': do_blah_thing()\n",
    "do_one(); do_two(); do_three()"
   ]
  }
 ],
 "metadata": {
  "kernelspec": {
   "display_name": "Python 3",
   "language": "python",
   "name": "python3"
  },
  "language_info": {
   "codemirror_mode": {
    "name": "ipython",
    "version": 3
   },
   "file_extension": ".py",
   "mimetype": "text/x-python",
   "name": "python",
   "nbconvert_exporter": "python",
   "pygments_lexer": "ipython3",
   "version": "3.7.6"
  }
 },
 "nbformat": 4,
 "nbformat_minor": 5
}
